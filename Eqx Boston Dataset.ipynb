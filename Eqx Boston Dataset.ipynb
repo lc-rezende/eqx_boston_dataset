{
 "cells": [
  {
   "cell_type": "code",
   "execution_count": 12,
   "metadata": {
    "collapsed": true
   },
   "outputs": [],
   "source": [
    "import pandas as pd\n",
    "import numpy as np\n",
    "import matplotlib.pyplot as plt\n",
    "import seaborn as sns\n",
    "sns.set()"
   ]
  },
  {
   "cell_type": "code",
   "execution_count": 2,
   "metadata": {
    "collapsed": true
   },
   "outputs": [],
   "source": [
    "%matplotlib inline"
   ]
  },
  {
   "cell_type": "code",
   "execution_count": 77,
   "metadata": {
    "collapsed": true
   },
   "outputs": [],
   "source": [
    "df = pd.read_csv('./dataset/Crimes_2011_to_present.csv', header='infer', delimiter=',', \n",
    "                 error_bad_lines=False, index_col=False, engine='python', infer_datetime_format=True)"
   ]
  },
  {
   "cell_type": "code",
   "execution_count": 80,
   "metadata": {
    "collapsed": true
   },
   "outputs": [],
   "source": [
    "df['District'] = pd.to_numeric(df['District'], errors='coerce')"
   ]
  },
  {
   "cell_type": "code",
   "execution_count": 86,
   "metadata": {
    "collapsed": true
   },
   "outputs": [],
   "source": [
    "df = df[df['District'].notnull()]"
   ]
  },
  {
   "cell_type": "code",
   "execution_count": 89,
   "metadata": {
    "collapsed": true
   },
   "outputs": [],
   "source": [
    "df.drop('Location', axis=1, inplace=True)"
   ]
  },
  {
   "cell_type": "code",
   "execution_count": 90,
   "metadata": {},
   "outputs": [
    {
     "data": {
      "text/html": [
       "<div>\n",
       "<style>\n",
       "    .dataframe thead tr:only-child th {\n",
       "        text-align: right;\n",
       "    }\n",
       "\n",
       "    .dataframe thead th {\n",
       "        text-align: left;\n",
       "    }\n",
       "\n",
       "    .dataframe tbody tr th {\n",
       "        vertical-align: top;\n",
       "    }\n",
       "</style>\n",
       "<table border=\"1\" class=\"dataframe\">\n",
       "  <thead>\n",
       "    <tr style=\"text-align: right;\">\n",
       "      <th></th>\n",
       "      <th>ID</th>\n",
       "      <th>Case.Number</th>\n",
       "      <th>Date</th>\n",
       "      <th>Block</th>\n",
       "      <th>IUCR</th>\n",
       "      <th>Primary.Type</th>\n",
       "      <th>Description</th>\n",
       "      <th>Location.Description</th>\n",
       "      <th>Arrest</th>\n",
       "      <th>Domestic</th>\n",
       "      <th>...</th>\n",
       "      <th>District</th>\n",
       "      <th>Ward</th>\n",
       "      <th>Community.Area</th>\n",
       "      <th>FBI.Code</th>\n",
       "      <th>X.Coordinate</th>\n",
       "      <th>Y.Coordinate</th>\n",
       "      <th>Year</th>\n",
       "      <th>Updated.On</th>\n",
       "      <th>Latitude</th>\n",
       "      <th>Longitude</th>\n",
       "    </tr>\n",
       "  </thead>\n",
       "  <tbody>\n",
       "    <tr>\n",
       "      <th>0</th>\n",
       "      <td>10060004</td>\n",
       "      <td>HY248774</td>\n",
       "      <td>2015-05-05</td>\n",
       "      <td>010XX W 79TH ST</td>\n",
       "      <td>0460</td>\n",
       "      <td>BATTERY</td>\n",
       "      <td>SIMPLE</td>\n",
       "      <td>SIDEWALK</td>\n",
       "      <td>false</td>\n",
       "      <td>false</td>\n",
       "      <td>...</td>\n",
       "      <td>6.0</td>\n",
       "      <td>17</td>\n",
       "      <td>71</td>\n",
       "      <td>08B</td>\n",
       "      <td>1170778.0</td>\n",
       "      <td>1852475</td>\n",
       "      <td>2015.0</td>\n",
       "      <td>05/12/2015 12:42:01 PM</td>\n",
       "      <td>41.75066697</td>\n",
       "      <td>-87.649760051</td>\n",
       "    </tr>\n",
       "    <tr>\n",
       "      <th>1</th>\n",
       "      <td>10059982</td>\n",
       "      <td>HY248801</td>\n",
       "      <td>2015-05-05</td>\n",
       "      <td>105XX S WABASH AVE</td>\n",
       "      <td>0420</td>\n",
       "      <td>BATTERY</td>\n",
       "      <td>AGGRAVATED:KNIFE/CUTTING INSTR</td>\n",
       "      <td>RESIDENCE</td>\n",
       "      <td>false</td>\n",
       "      <td>false</td>\n",
       "      <td>...</td>\n",
       "      <td>5.0</td>\n",
       "      <td>9</td>\n",
       "      <td>49</td>\n",
       "      <td>04B</td>\n",
       "      <td>1178485.0</td>\n",
       "      <td>1834909</td>\n",
       "      <td>2015.0</td>\n",
       "      <td>05/12/2015 12:42:01 PM</td>\n",
       "      <td>41.702292131</td>\n",
       "      <td>-87.622049984</td>\n",
       "    </tr>\n",
       "    <tr>\n",
       "      <th>2</th>\n",
       "      <td>10059953</td>\n",
       "      <td>HY248791</td>\n",
       "      <td>2015-05-05</td>\n",
       "      <td>005XX N ASHLAND AVE</td>\n",
       "      <td>2027</td>\n",
       "      <td>NARCOTICS</td>\n",
       "      <td>POSS: CRACK</td>\n",
       "      <td>SIDEWALK</td>\n",
       "      <td>true</td>\n",
       "      <td>false</td>\n",
       "      <td>...</td>\n",
       "      <td>13.0</td>\n",
       "      <td>26</td>\n",
       "      <td>24</td>\n",
       "      <td>18</td>\n",
       "      <td>1165594.0</td>\n",
       "      <td>1903713</td>\n",
       "      <td>2015.0</td>\n",
       "      <td>05/12/2015 12:42:01 PM</td>\n",
       "      <td>41.891381064</td>\n",
       "      <td>-87.66730127</td>\n",
       "    </tr>\n",
       "    <tr>\n",
       "      <th>3</th>\n",
       "      <td>10060015</td>\n",
       "      <td>HY248790</td>\n",
       "      <td>2015-05-05</td>\n",
       "      <td>005XX N MARSHFIELD AVE</td>\n",
       "      <td>0275</td>\n",
       "      <td>CRIM SEXUAL ASSAULT</td>\n",
       "      <td>ATTEMPT AGG: OTHER</td>\n",
       "      <td>ALLEY</td>\n",
       "      <td>false</td>\n",
       "      <td>false</td>\n",
       "      <td>...</td>\n",
       "      <td>13.0</td>\n",
       "      <td>26</td>\n",
       "      <td>24</td>\n",
       "      <td>02</td>\n",
       "      <td>1165337.0</td>\n",
       "      <td>1903842</td>\n",
       "      <td>2015.0</td>\n",
       "      <td>05/12/2015 12:42:01 PM</td>\n",
       "      <td>41.89174052</td>\n",
       "      <td>-87.668241434</td>\n",
       "    </tr>\n",
       "    <tr>\n",
       "      <th>4</th>\n",
       "      <td>10059944</td>\n",
       "      <td>HY248782</td>\n",
       "      <td>2015-05-05</td>\n",
       "      <td>0000X E 72ND ST</td>\n",
       "      <td>2024</td>\n",
       "      <td>NARCOTICS</td>\n",
       "      <td>POSS: HEROIN(WHITE)</td>\n",
       "      <td>STREET</td>\n",
       "      <td>true</td>\n",
       "      <td>false</td>\n",
       "      <td>...</td>\n",
       "      <td>3.0</td>\n",
       "      <td>6</td>\n",
       "      <td>69</td>\n",
       "      <td>18</td>\n",
       "      <td>1178073.0</td>\n",
       "      <td>1857256</td>\n",
       "      <td>2015.0</td>\n",
       "      <td>05/12/2015 12:42:01 PM</td>\n",
       "      <td>41.763624424</td>\n",
       "      <td>-87.622883163</td>\n",
       "    </tr>\n",
       "  </tbody>\n",
       "</table>\n",
       "<p>5 rows × 21 columns</p>\n",
       "</div>"
      ],
      "text/plain": [
       "         ID Case.Number        Date                   Block  IUCR  \\\n",
       "0  10060004    HY248774  2015-05-05         010XX W 79TH ST  0460   \n",
       "1  10059982    HY248801  2015-05-05      105XX S WABASH AVE  0420   \n",
       "2  10059953    HY248791  2015-05-05     005XX N ASHLAND AVE  2027   \n",
       "3  10060015    HY248790  2015-05-05  005XX N MARSHFIELD AVE  0275   \n",
       "4  10059944    HY248782  2015-05-05         0000X E 72ND ST  2024   \n",
       "\n",
       "          Primary.Type                     Description Location.Description  \\\n",
       "0              BATTERY                          SIMPLE             SIDEWALK   \n",
       "1              BATTERY  AGGRAVATED:KNIFE/CUTTING INSTR            RESIDENCE   \n",
       "2            NARCOTICS                     POSS: CRACK             SIDEWALK   \n",
       "3  CRIM SEXUAL ASSAULT              ATTEMPT AGG: OTHER                ALLEY   \n",
       "4            NARCOTICS             POSS: HEROIN(WHITE)               STREET   \n",
       "\n",
       "  Arrest Domestic      ...       District  Ward Community.Area FBI.Code  \\\n",
       "0  false    false      ...            6.0    17             71      08B   \n",
       "1  false    false      ...            5.0     9             49      04B   \n",
       "2   true    false      ...           13.0    26             24       18   \n",
       "3  false    false      ...           13.0    26             24       02   \n",
       "4   true    false      ...            3.0     6             69       18   \n",
       "\n",
       "  X.Coordinate  Y.Coordinate    Year              Updated.On      Latitude  \\\n",
       "0    1170778.0       1852475  2015.0  05/12/2015 12:42:01 PM   41.75066697   \n",
       "1    1178485.0       1834909  2015.0  05/12/2015 12:42:01 PM  41.702292131   \n",
       "2    1165594.0       1903713  2015.0  05/12/2015 12:42:01 PM  41.891381064   \n",
       "3    1165337.0       1903842  2015.0  05/12/2015 12:42:01 PM   41.89174052   \n",
       "4    1178073.0       1857256  2015.0  05/12/2015 12:42:01 PM  41.763624424   \n",
       "\n",
       "       Longitude  \n",
       "0  -87.649760051  \n",
       "1  -87.622049984  \n",
       "2   -87.66730127  \n",
       "3  -87.668241434  \n",
       "4  -87.622883163  \n",
       "\n",
       "[5 rows x 21 columns]"
      ]
     },
     "execution_count": 90,
     "metadata": {},
     "output_type": "execute_result"
    }
   ],
   "source": [
    "df.head()"
   ]
  },
  {
   "cell_type": "code",
   "execution_count": 92,
   "metadata": {
    "collapsed": true
   },
   "outputs": [],
   "source": [
    "dummy = pd.get_dummies(df['Primary.Type'])"
   ]
  },
  {
   "cell_type": "code",
   "execution_count": 96,
   "metadata": {},
   "outputs": [
    {
     "data": {
      "text/plain": [
       "Index(['ARSON', 'ASSAULT', 'BATTERY', 'BURGLARY',\n",
       "       'CONCEALED CARRY LICENSE VIOLATION', 'CRIM SEXUAL ASSAULT',\n",
       "       'CRIMINAL DAMAGE', 'CRIMINAL TRESPASS', 'DECEPTIVE PRACTICE',\n",
       "       'GAMBLING', 'HOMICIDE', 'HUMAN TRAFFICKING',\n",
       "       'INTERFERENCE WITH PUBLIC OFFICER', 'INTIMIDATION', 'KIDNAPPING',\n",
       "       'LIQUOR LAW VIOLATION', 'MOTOR VEHICLE THEFT', 'NARCOTICS',\n",
       "       'NON - CRIMINAL', 'NON-CRIMINAL', 'NON-CRIMINAL (SUBJECT SPECIFIED)',\n",
       "       'OBSCENITY', 'OFFENSE INVOLVING CHILDREN', 'OTHER NARCOTIC VIOLATION',\n",
       "       'OTHER OFFENSE', 'PROSTITUTION', 'PUBLIC INDECENCY',\n",
       "       'PUBLIC PEACE VIOLATION', 'ROBBERY', 'SEX OFFENSE', 'STALKING', 'THEFT',\n",
       "       'WEAPONS VIOLATION'],\n",
       "      dtype='object')"
      ]
     },
     "execution_count": 96,
     "metadata": {},
     "output_type": "execute_result"
    }
   ],
   "source": [
    "dummy.columns"
   ]
  },
  {
   "cell_type": "code",
   "execution_count": 158,
   "metadata": {
    "collapsed": true
   },
   "outputs": [],
   "source": [
    "new_df = pd.concat([df, dummy])"
   ]
  },
  {
   "cell_type": "code",
   "execution_count": 94,
   "metadata": {},
   "outputs": [
    {
     "data": {
      "text/html": [
       "<div>\n",
       "<style>\n",
       "    .dataframe thead tr:only-child th {\n",
       "        text-align: right;\n",
       "    }\n",
       "\n",
       "    .dataframe thead th {\n",
       "        text-align: left;\n",
       "    }\n",
       "\n",
       "    .dataframe tbody tr th {\n",
       "        vertical-align: top;\n",
       "    }\n",
       "</style>\n",
       "<table border=\"1\" class=\"dataframe\">\n",
       "  <thead>\n",
       "    <tr style=\"text-align: right;\">\n",
       "      <th></th>\n",
       "      <th>ARSON</th>\n",
       "      <th>ASSAULT</th>\n",
       "      <th>Arrest</th>\n",
       "      <th>BATTERY</th>\n",
       "      <th>BURGLARY</th>\n",
       "      <th>Beat</th>\n",
       "      <th>Block</th>\n",
       "      <th>CONCEALED CARRY LICENSE VIOLATION</th>\n",
       "      <th>CRIM SEXUAL ASSAULT</th>\n",
       "      <th>CRIMINAL DAMAGE</th>\n",
       "      <th>...</th>\n",
       "      <th>ROBBERY</th>\n",
       "      <th>SEX OFFENSE</th>\n",
       "      <th>STALKING</th>\n",
       "      <th>THEFT</th>\n",
       "      <th>Updated.On</th>\n",
       "      <th>WEAPONS VIOLATION</th>\n",
       "      <th>Ward</th>\n",
       "      <th>X.Coordinate</th>\n",
       "      <th>Y.Coordinate</th>\n",
       "      <th>Year</th>\n",
       "    </tr>\n",
       "  </thead>\n",
       "  <tbody>\n",
       "    <tr>\n",
       "      <th>0</th>\n",
       "      <td>NaN</td>\n",
       "      <td>NaN</td>\n",
       "      <td>false</td>\n",
       "      <td>NaN</td>\n",
       "      <td>NaN</td>\n",
       "      <td>612</td>\n",
       "      <td>010XX W 79TH ST</td>\n",
       "      <td>NaN</td>\n",
       "      <td>NaN</td>\n",
       "      <td>NaN</td>\n",
       "      <td>...</td>\n",
       "      <td>NaN</td>\n",
       "      <td>NaN</td>\n",
       "      <td>NaN</td>\n",
       "      <td>NaN</td>\n",
       "      <td>05/12/2015 12:42:01 PM</td>\n",
       "      <td>NaN</td>\n",
       "      <td>17</td>\n",
       "      <td>1170778.0</td>\n",
       "      <td>1852475</td>\n",
       "      <td>2015.0</td>\n",
       "    </tr>\n",
       "    <tr>\n",
       "      <th>1</th>\n",
       "      <td>NaN</td>\n",
       "      <td>NaN</td>\n",
       "      <td>false</td>\n",
       "      <td>NaN</td>\n",
       "      <td>NaN</td>\n",
       "      <td>512</td>\n",
       "      <td>105XX S WABASH AVE</td>\n",
       "      <td>NaN</td>\n",
       "      <td>NaN</td>\n",
       "      <td>NaN</td>\n",
       "      <td>...</td>\n",
       "      <td>NaN</td>\n",
       "      <td>NaN</td>\n",
       "      <td>NaN</td>\n",
       "      <td>NaN</td>\n",
       "      <td>05/12/2015 12:42:01 PM</td>\n",
       "      <td>NaN</td>\n",
       "      <td>9</td>\n",
       "      <td>1178485.0</td>\n",
       "      <td>1834909</td>\n",
       "      <td>2015.0</td>\n",
       "    </tr>\n",
       "    <tr>\n",
       "      <th>2</th>\n",
       "      <td>NaN</td>\n",
       "      <td>NaN</td>\n",
       "      <td>true</td>\n",
       "      <td>NaN</td>\n",
       "      <td>NaN</td>\n",
       "      <td>1215</td>\n",
       "      <td>005XX N ASHLAND AVE</td>\n",
       "      <td>NaN</td>\n",
       "      <td>NaN</td>\n",
       "      <td>NaN</td>\n",
       "      <td>...</td>\n",
       "      <td>NaN</td>\n",
       "      <td>NaN</td>\n",
       "      <td>NaN</td>\n",
       "      <td>NaN</td>\n",
       "      <td>05/12/2015 12:42:01 PM</td>\n",
       "      <td>NaN</td>\n",
       "      <td>26</td>\n",
       "      <td>1165594.0</td>\n",
       "      <td>1903713</td>\n",
       "      <td>2015.0</td>\n",
       "    </tr>\n",
       "    <tr>\n",
       "      <th>3</th>\n",
       "      <td>NaN</td>\n",
       "      <td>NaN</td>\n",
       "      <td>false</td>\n",
       "      <td>NaN</td>\n",
       "      <td>NaN</td>\n",
       "      <td>1215</td>\n",
       "      <td>005XX N MARSHFIELD AVE</td>\n",
       "      <td>NaN</td>\n",
       "      <td>NaN</td>\n",
       "      <td>NaN</td>\n",
       "      <td>...</td>\n",
       "      <td>NaN</td>\n",
       "      <td>NaN</td>\n",
       "      <td>NaN</td>\n",
       "      <td>NaN</td>\n",
       "      <td>05/12/2015 12:42:01 PM</td>\n",
       "      <td>NaN</td>\n",
       "      <td>26</td>\n",
       "      <td>1165337.0</td>\n",
       "      <td>1903842</td>\n",
       "      <td>2015.0</td>\n",
       "    </tr>\n",
       "    <tr>\n",
       "      <th>4</th>\n",
       "      <td>NaN</td>\n",
       "      <td>NaN</td>\n",
       "      <td>true</td>\n",
       "      <td>NaN</td>\n",
       "      <td>NaN</td>\n",
       "      <td>323</td>\n",
       "      <td>0000X E 72ND ST</td>\n",
       "      <td>NaN</td>\n",
       "      <td>NaN</td>\n",
       "      <td>NaN</td>\n",
       "      <td>...</td>\n",
       "      <td>NaN</td>\n",
       "      <td>NaN</td>\n",
       "      <td>NaN</td>\n",
       "      <td>NaN</td>\n",
       "      <td>05/12/2015 12:42:01 PM</td>\n",
       "      <td>NaN</td>\n",
       "      <td>6</td>\n",
       "      <td>1178073.0</td>\n",
       "      <td>1857256</td>\n",
       "      <td>2015.0</td>\n",
       "    </tr>\n",
       "  </tbody>\n",
       "</table>\n",
       "<p>5 rows × 54 columns</p>\n",
       "</div>"
      ],
      "text/plain": [
       "   ARSON  ASSAULT Arrest  BATTERY  BURGLARY  Beat                   Block  \\\n",
       "0    NaN      NaN  false      NaN       NaN   612         010XX W 79TH ST   \n",
       "1    NaN      NaN  false      NaN       NaN   512      105XX S WABASH AVE   \n",
       "2    NaN      NaN   true      NaN       NaN  1215     005XX N ASHLAND AVE   \n",
       "3    NaN      NaN  false      NaN       NaN  1215  005XX N MARSHFIELD AVE   \n",
       "4    NaN      NaN   true      NaN       NaN   323         0000X E 72ND ST   \n",
       "\n",
       "   CONCEALED CARRY LICENSE VIOLATION  CRIM SEXUAL ASSAULT  CRIMINAL DAMAGE  \\\n",
       "0                                NaN                  NaN              NaN   \n",
       "1                                NaN                  NaN              NaN   \n",
       "2                                NaN                  NaN              NaN   \n",
       "3                                NaN                  NaN              NaN   \n",
       "4                                NaN                  NaN              NaN   \n",
       "\n",
       "    ...    ROBBERY SEX OFFENSE STALKING  THEFT              Updated.On  \\\n",
       "0   ...        NaN         NaN      NaN    NaN  05/12/2015 12:42:01 PM   \n",
       "1   ...        NaN         NaN      NaN    NaN  05/12/2015 12:42:01 PM   \n",
       "2   ...        NaN         NaN      NaN    NaN  05/12/2015 12:42:01 PM   \n",
       "3   ...        NaN         NaN      NaN    NaN  05/12/2015 12:42:01 PM   \n",
       "4   ...        NaN         NaN      NaN    NaN  05/12/2015 12:42:01 PM   \n",
       "\n",
       "  WEAPONS VIOLATION  Ward X.Coordinate Y.Coordinate    Year  \n",
       "0               NaN    17    1170778.0      1852475  2015.0  \n",
       "1               NaN     9    1178485.0      1834909  2015.0  \n",
       "2               NaN    26    1165594.0      1903713  2015.0  \n",
       "3               NaN    26    1165337.0      1903842  2015.0  \n",
       "4               NaN     6    1178073.0      1857256  2015.0  \n",
       "\n",
       "[5 rows x 54 columns]"
      ]
     },
     "execution_count": 94,
     "metadata": {},
     "output_type": "execute_result"
    }
   ],
   "source": [
    "new_df.head()"
   ]
  },
  {
   "cell_type": "code",
   "execution_count": 95,
   "metadata": {},
   "outputs": [
    {
     "name": "stdout",
     "output_type": "stream",
     "text": [
      "<class 'pandas.core.frame.DataFrame'>\n",
      "Int64Index: 2595608 entries, 0 to 1346118\n",
      "Data columns (total 54 columns):\n",
      "ARSON                                float64\n",
      "ASSAULT                              float64\n",
      "Arrest                               object\n",
      "BATTERY                              float64\n",
      "BURGLARY                             float64\n",
      "Beat                                 object\n",
      "Block                                object\n",
      "CONCEALED CARRY LICENSE VIOLATION    float64\n",
      "CRIM SEXUAL ASSAULT                  float64\n",
      "CRIMINAL DAMAGE                      float64\n",
      "CRIMINAL TRESPASS                    float64\n",
      "Case.Number                          object\n",
      "Community.Area                       object\n",
      "DECEPTIVE PRACTICE                   float64\n",
      "Date                                 object\n",
      "Description                          object\n",
      "District                             float64\n",
      "Domestic                             object\n",
      "FBI.Code                             object\n",
      "GAMBLING                             float64\n",
      "HOMICIDE                             float64\n",
      "HUMAN TRAFFICKING                    float64\n",
      "ID                                   float64\n",
      "INTERFERENCE WITH PUBLIC OFFICER     float64\n",
      "INTIMIDATION                         float64\n",
      "IUCR                                 object\n",
      "KIDNAPPING                           float64\n",
      "LIQUOR LAW VIOLATION                 float64\n",
      "Latitude                             object\n",
      "Location.Description                 object\n",
      "Longitude                            object\n",
      "MOTOR VEHICLE THEFT                  float64\n",
      "NARCOTICS                            float64\n",
      "NON - CRIMINAL                       float64\n",
      "NON-CRIMINAL                         float64\n",
      "NON-CRIMINAL (SUBJECT SPECIFIED)     float64\n",
      "OBSCENITY                            float64\n",
      "OFFENSE INVOLVING CHILDREN           float64\n",
      "OTHER NARCOTIC VIOLATION             float64\n",
      "OTHER OFFENSE                        float64\n",
      "PROSTITUTION                         float64\n",
      "PUBLIC INDECENCY                     float64\n",
      "PUBLIC PEACE VIOLATION               float64\n",
      "Primary.Type                         object\n",
      "ROBBERY                              float64\n",
      "SEX OFFENSE                          float64\n",
      "STALKING                             float64\n",
      "THEFT                                float64\n",
      "Updated.On                           object\n",
      "WEAPONS VIOLATION                    float64\n",
      "Ward                                 object\n",
      "X.Coordinate                         float64\n",
      "Y.Coordinate                         object\n",
      "Year                                 float64\n",
      "dtypes: float64(37), object(17)\n",
      "memory usage: 1.1+ GB\n"
     ]
    }
   ],
   "source": [
    "new_df.info()"
   ]
  },
  {
   "cell_type": "code",
   "execution_count": 116,
   "metadata": {},
   "outputs": [
    {
     "data": {
      "text/html": [
       "<div>\n",
       "<style>\n",
       "    .dataframe thead tr:only-child th {\n",
       "        text-align: right;\n",
       "    }\n",
       "\n",
       "    .dataframe thead th {\n",
       "        text-align: left;\n",
       "    }\n",
       "\n",
       "    .dataframe tbody tr th {\n",
       "        vertical-align: top;\n",
       "    }\n",
       "</style>\n",
       "<table border=\"1\" class=\"dataframe\">\n",
       "  <thead>\n",
       "    <tr style=\"text-align: right;\">\n",
       "      <th></th>\n",
       "      <th>ARSON</th>\n",
       "      <th>ASSAULT</th>\n",
       "      <th>BATTERY</th>\n",
       "      <th>BURGLARY</th>\n",
       "      <th>CONCEALED CARRY LICENSE VIOLATION</th>\n",
       "      <th>CRIM SEXUAL ASSAULT</th>\n",
       "      <th>CRIMINAL DAMAGE</th>\n",
       "      <th>CRIMINAL TRESPASS</th>\n",
       "      <th>DECEPTIVE PRACTICE</th>\n",
       "      <th>GAMBLING</th>\n",
       "      <th>...</th>\n",
       "      <th>OTHER OFFENSE</th>\n",
       "      <th>PROSTITUTION</th>\n",
       "      <th>PUBLIC INDECENCY</th>\n",
       "      <th>PUBLIC PEACE VIOLATION</th>\n",
       "      <th>ROBBERY</th>\n",
       "      <th>SEX OFFENSE</th>\n",
       "      <th>STALKING</th>\n",
       "      <th>THEFT</th>\n",
       "      <th>WEAPONS VIOLATION</th>\n",
       "      <th>District</th>\n",
       "    </tr>\n",
       "  </thead>\n",
       "  <tbody>\n",
       "    <tr>\n",
       "      <th>0</th>\n",
       "      <td>NaN</td>\n",
       "      <td>NaN</td>\n",
       "      <td>NaN</td>\n",
       "      <td>NaN</td>\n",
       "      <td>NaN</td>\n",
       "      <td>NaN</td>\n",
       "      <td>NaN</td>\n",
       "      <td>NaN</td>\n",
       "      <td>NaN</td>\n",
       "      <td>NaN</td>\n",
       "      <td>...</td>\n",
       "      <td>NaN</td>\n",
       "      <td>NaN</td>\n",
       "      <td>NaN</td>\n",
       "      <td>NaN</td>\n",
       "      <td>NaN</td>\n",
       "      <td>NaN</td>\n",
       "      <td>NaN</td>\n",
       "      <td>NaN</td>\n",
       "      <td>NaN</td>\n",
       "      <td>6.0</td>\n",
       "    </tr>\n",
       "    <tr>\n",
       "      <th>1</th>\n",
       "      <td>NaN</td>\n",
       "      <td>NaN</td>\n",
       "      <td>NaN</td>\n",
       "      <td>NaN</td>\n",
       "      <td>NaN</td>\n",
       "      <td>NaN</td>\n",
       "      <td>NaN</td>\n",
       "      <td>NaN</td>\n",
       "      <td>NaN</td>\n",
       "      <td>NaN</td>\n",
       "      <td>...</td>\n",
       "      <td>NaN</td>\n",
       "      <td>NaN</td>\n",
       "      <td>NaN</td>\n",
       "      <td>NaN</td>\n",
       "      <td>NaN</td>\n",
       "      <td>NaN</td>\n",
       "      <td>NaN</td>\n",
       "      <td>NaN</td>\n",
       "      <td>NaN</td>\n",
       "      <td>5.0</td>\n",
       "    </tr>\n",
       "    <tr>\n",
       "      <th>2</th>\n",
       "      <td>NaN</td>\n",
       "      <td>NaN</td>\n",
       "      <td>NaN</td>\n",
       "      <td>NaN</td>\n",
       "      <td>NaN</td>\n",
       "      <td>NaN</td>\n",
       "      <td>NaN</td>\n",
       "      <td>NaN</td>\n",
       "      <td>NaN</td>\n",
       "      <td>NaN</td>\n",
       "      <td>...</td>\n",
       "      <td>NaN</td>\n",
       "      <td>NaN</td>\n",
       "      <td>NaN</td>\n",
       "      <td>NaN</td>\n",
       "      <td>NaN</td>\n",
       "      <td>NaN</td>\n",
       "      <td>NaN</td>\n",
       "      <td>NaN</td>\n",
       "      <td>NaN</td>\n",
       "      <td>13.0</td>\n",
       "    </tr>\n",
       "    <tr>\n",
       "      <th>3</th>\n",
       "      <td>NaN</td>\n",
       "      <td>NaN</td>\n",
       "      <td>NaN</td>\n",
       "      <td>NaN</td>\n",
       "      <td>NaN</td>\n",
       "      <td>NaN</td>\n",
       "      <td>NaN</td>\n",
       "      <td>NaN</td>\n",
       "      <td>NaN</td>\n",
       "      <td>NaN</td>\n",
       "      <td>...</td>\n",
       "      <td>NaN</td>\n",
       "      <td>NaN</td>\n",
       "      <td>NaN</td>\n",
       "      <td>NaN</td>\n",
       "      <td>NaN</td>\n",
       "      <td>NaN</td>\n",
       "      <td>NaN</td>\n",
       "      <td>NaN</td>\n",
       "      <td>NaN</td>\n",
       "      <td>13.0</td>\n",
       "    </tr>\n",
       "    <tr>\n",
       "      <th>4</th>\n",
       "      <td>NaN</td>\n",
       "      <td>NaN</td>\n",
       "      <td>NaN</td>\n",
       "      <td>NaN</td>\n",
       "      <td>NaN</td>\n",
       "      <td>NaN</td>\n",
       "      <td>NaN</td>\n",
       "      <td>NaN</td>\n",
       "      <td>NaN</td>\n",
       "      <td>NaN</td>\n",
       "      <td>...</td>\n",
       "      <td>NaN</td>\n",
       "      <td>NaN</td>\n",
       "      <td>NaN</td>\n",
       "      <td>NaN</td>\n",
       "      <td>NaN</td>\n",
       "      <td>NaN</td>\n",
       "      <td>NaN</td>\n",
       "      <td>NaN</td>\n",
       "      <td>NaN</td>\n",
       "      <td>3.0</td>\n",
       "    </tr>\n",
       "  </tbody>\n",
       "</table>\n",
       "<p>5 rows × 34 columns</p>\n",
       "</div>"
      ],
      "text/plain": [
       "   ARSON  ASSAULT  BATTERY  BURGLARY  CONCEALED CARRY LICENSE VIOLATION  \\\n",
       "0    NaN      NaN      NaN       NaN                                NaN   \n",
       "1    NaN      NaN      NaN       NaN                                NaN   \n",
       "2    NaN      NaN      NaN       NaN                                NaN   \n",
       "3    NaN      NaN      NaN       NaN                                NaN   \n",
       "4    NaN      NaN      NaN       NaN                                NaN   \n",
       "\n",
       "   CRIM SEXUAL ASSAULT  CRIMINAL DAMAGE  CRIMINAL TRESPASS  \\\n",
       "0                  NaN              NaN                NaN   \n",
       "1                  NaN              NaN                NaN   \n",
       "2                  NaN              NaN                NaN   \n",
       "3                  NaN              NaN                NaN   \n",
       "4                  NaN              NaN                NaN   \n",
       "\n",
       "   DECEPTIVE PRACTICE  GAMBLING    ...     OTHER OFFENSE  PROSTITUTION  \\\n",
       "0                 NaN       NaN    ...               NaN           NaN   \n",
       "1                 NaN       NaN    ...               NaN           NaN   \n",
       "2                 NaN       NaN    ...               NaN           NaN   \n",
       "3                 NaN       NaN    ...               NaN           NaN   \n",
       "4                 NaN       NaN    ...               NaN           NaN   \n",
       "\n",
       "   PUBLIC INDECENCY  PUBLIC PEACE VIOLATION  ROBBERY  SEX OFFENSE  STALKING  \\\n",
       "0               NaN                     NaN      NaN          NaN       NaN   \n",
       "1               NaN                     NaN      NaN          NaN       NaN   \n",
       "2               NaN                     NaN      NaN          NaN       NaN   \n",
       "3               NaN                     NaN      NaN          NaN       NaN   \n",
       "4               NaN                     NaN      NaN          NaN       NaN   \n",
       "\n",
       "   THEFT  WEAPONS VIOLATION  District  \n",
       "0    NaN                NaN       6.0  \n",
       "1    NaN                NaN       5.0  \n",
       "2    NaN                NaN      13.0  \n",
       "3    NaN                NaN      13.0  \n",
       "4    NaN                NaN       3.0  \n",
       "\n",
       "[5 rows x 34 columns]"
      ]
     },
     "execution_count": 116,
     "metadata": {},
     "output_type": "execute_result"
    }
   ],
   "source": [
    "new_df[['ARSON', 'ASSAULT', 'BATTERY', 'BURGLARY',\n",
    "       'CONCEALED CARRY LICENSE VIOLATION', 'CRIM SEXUAL ASSAULT',\n",
    "       'CRIMINAL DAMAGE', 'CRIMINAL TRESPASS', 'DECEPTIVE PRACTICE',\n",
    "       'GAMBLING', 'HOMICIDE', 'HUMAN TRAFFICKING',\n",
    "       'INTERFERENCE WITH PUBLIC OFFICER', 'INTIMIDATION', 'KIDNAPPING',\n",
    "       'LIQUOR LAW VIOLATION', 'MOTOR VEHICLE THEFT', 'NARCOTICS',\n",
    "       'NON - CRIMINAL', 'NON-CRIMINAL', 'NON-CRIMINAL (SUBJECT SPECIFIED)',\n",
    "       'OBSCENITY', 'OFFENSE INVOLVING CHILDREN', 'OTHER NARCOTIC VIOLATION',\n",
    "       'OTHER OFFENSE', 'PROSTITUTION', 'PUBLIC INDECENCY',\n",
    "       'PUBLIC PEACE VIOLATION', 'ROBBERY', 'SEX OFFENSE', 'STALKING', 'THEFT',\n",
    "       'WEAPONS VIOLATION', 'District']].head()"
   ]
  },
  {
   "cell_type": "markdown",
   "metadata": {},
   "source": [
    "# Clustering"
   ]
  },
  {
   "cell_type": "code",
   "execution_count": 122,
   "metadata": {
    "collapsed": true
   },
   "outputs": [],
   "source": [
    "from sklearn.cluster import KMeans"
   ]
  },
  {
   "cell_type": "code",
   "execution_count": 98,
   "metadata": {
    "collapsed": true
   },
   "outputs": [],
   "source": [
    "kmeans = KMeans(n_clusters=3)"
   ]
  },
  {
   "cell_type": "code",
   "execution_count": 118,
   "metadata": {},
   "outputs": [
    {
     "data": {
      "text/plain": [
       "KMeans(algorithm='auto', copy_x=True, init='k-means++', max_iter=300,\n",
       "    n_clusters=3, n_init=10, n_jobs=1, precompute_distances='auto',\n",
       "    random_state=None, tol=0.0001, verbose=0)"
      ]
     },
     "execution_count": 118,
     "metadata": {},
     "output_type": "execute_result"
    }
   ],
   "source": [
    "kmeans.fit(new_df[['ARSON', 'ASSAULT', 'BATTERY', 'BURGLARY',\n",
    "       'CONCEALED CARRY LICENSE VIOLATION', 'CRIM SEXUAL ASSAULT',\n",
    "       'CRIMINAL DAMAGE', 'CRIMINAL TRESPASS', 'DECEPTIVE PRACTICE',\n",
    "       'GAMBLING', 'HOMICIDE', 'HUMAN TRAFFICKING',\n",
    "       'INTERFERENCE WITH PUBLIC OFFICER', 'INTIMIDATION', 'KIDNAPPING',\n",
    "       'LIQUOR LAW VIOLATION', 'MOTOR VEHICLE THEFT', 'NARCOTICS',\n",
    "       'NON - CRIMINAL', 'NON-CRIMINAL', 'NON-CRIMINAL (SUBJECT SPECIFIED)',\n",
    "       'OBSCENITY', 'OFFENSE INVOLVING CHILDREN', 'OTHER NARCOTIC VIOLATION',\n",
    "       'OTHER OFFENSE', 'PROSTITUTION', 'PUBLIC INDECENCY',\n",
    "       'PUBLIC PEACE VIOLATION', 'ROBBERY', 'SEX OFFENSE', 'STALKING', 'THEFT',\n",
    "       'WEAPONS VIOLATION', 'District']].fillna(0))"
   ]
  },
  {
   "cell_type": "markdown",
   "metadata": {},
   "source": [
    "## Regression"
   ]
  },
  {
   "cell_type": "markdown",
   "metadata": {},
   "source": [
    "## EDA"
   ]
  },
  {
   "cell_type": "code",
   "execution_count": 141,
   "metadata": {},
   "outputs": [
    {
     "data": {
      "text/plain": [
       "11.0    88986\n",
       "8.0     88055\n",
       "4.0     77307\n",
       "7.0     77280\n",
       "6.0     76814\n",
       "25.0    76601\n",
       "3.0     67842\n",
       "9.0     65300\n",
       "12.0    59756\n",
       "19.0    58894\n",
       "15.0    58669\n",
       "5.0     58319\n",
       "10.0    57748\n",
       "Name: District, dtype: int64"
      ]
     },
     "execution_count": 141,
     "metadata": {},
     "output_type": "execute_result"
    }
   ],
   "source": [
    "new_df['District'].value_counts()[:10]"
   ]
  },
  {
   "cell_type": "code",
   "execution_count": 145,
   "metadata": {
    "collapsed": true
   },
   "outputs": [],
   "source": [
    "vc = new_df['District'].value_counts()[:10]"
   ]
  },
  {
   "cell_type": "code",
   "execution_count": 146,
   "metadata": {},
   "outputs": [
    {
     "data": {
      "image/png": "[encoded data removed]",
      "text/plain": [
       "<matplotlib.figure.Figure at 0x1a1ada6e10>"
      ]
     },
     "metadata": {},
     "output_type": "display_data"
    }
   ],
   "source": [
    "vc.plot(kind='bar')\n",
    "plt.xticks()\n",
    "plt.show()"
   ]
  },
  {
   "cell_type": "code",
   "execution_count": 155,
   "metadata": {},
   "outputs": [
    {
     "data": {
      "text/plain": [
       "Index(['ARSON', 'ASSAULT', 'Arrest', 'BATTERY', 'BURGLARY', 'Beat', 'Block',\n",
       "       'CONCEALED CARRY LICENSE VIOLATION', 'CRIM SEXUAL ASSAULT',\n",
       "       'CRIMINAL DAMAGE', 'CRIMINAL TRESPASS', 'Case.Number', 'Community.Area',\n",
       "       'DECEPTIVE PRACTICE', 'Date', 'Description', 'District', 'Domestic',\n",
       "       'FBI.Code', 'GAMBLING', 'HOMICIDE', 'HUMAN TRAFFICKING', 'ID',\n",
       "       'INTERFERENCE WITH PUBLIC OFFICER', 'INTIMIDATION', 'IUCR',\n",
       "       'KIDNAPPING', 'LIQUOR LAW VIOLATION', 'Latitude',\n",
       "       'Location.Description', 'Longitude', 'MOTOR VEHICLE THEFT', 'NARCOTICS',\n",
       "       'NON - CRIMINAL', 'NON-CRIMINAL', 'NON-CRIMINAL (SUBJECT SPECIFIED)',\n",
       "       'OBSCENITY', 'OFFENSE INVOLVING CHILDREN', 'OTHER NARCOTIC VIOLATION',\n",
       "       'OTHER OFFENSE', 'PROSTITUTION', 'PUBLIC INDECENCY',\n",
       "       'PUBLIC PEACE VIOLATION', 'Primary.Type', 'ROBBERY', 'SEX OFFENSE',\n",
       "       'STALKING', 'THEFT', 'Updated.On', 'WEAPONS VIOLATION', 'Ward',\n",
       "       'X.Coordinate', 'Y.Coordinate', 'Year'],\n",
       "      dtype='object')"
      ]
     },
     "execution_count": 155,
     "metadata": {},
     "output_type": "execute_result"
    }
   ],
   "source": [
    "new_df.columns"
   ]
  },
  {
   "cell_type": "code",
   "execution_count": 161,
   "metadata": {
    "collapsed": true
   },
   "outputs": [],
   "source": [
    "new_df['Year'] = pd.to_numeric(new_df['Year'], errors='coerce')"
   ]
  },
  {
   "cell_type": "code",
   "execution_count": 162,
   "metadata": {
    "collapsed": true
   },
   "outputs": [],
   "source": [
    "new_df = new_df[new_df['Year'].notnull()]"
   ]
  },
  {
   "cell_type": "markdown",
   "metadata": {},
   "source": [
    "### ..."
   ]
  },
  {
   "cell_type": "code",
   "execution_count": null,
   "metadata": {
    "collapsed": true
   },
   "outputs": [],
   "source": []
  }
 ],
 "metadata": {
  "kernelspec": {
   "display_name": "Python 3",
   "language": "python",
   "name": "python3"
  },
  "language_info": {
   "codemirror_mode": {
    "name": "ipython",
    "version": 3
   },
   "file_extension": ".py",
   "mimetype": "text/x-python",
   "name": "python",
   "nbconvert_exporter": "python",
   "pygments_lexer": "ipython3",
   "version": "3.6.3"
  }
 },
 "nbformat": 4,
 "nbformat_minor": 2
}
